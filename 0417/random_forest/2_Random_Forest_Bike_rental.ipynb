{
  "cells": [
    {
      "cell_type": "markdown",
      "metadata": {
        "id": "O2rr_vt-9zie"
      },
      "source": [
        "# Random Forest"
      ]
    },
    {
      "cell_type": "markdown",
      "metadata": {},
      "source": [
        "### 1. 필요한 Python 라이브러리 Import 하기"
      ]
    },
    {
      "cell_type": "code",
      "execution_count": 1,
      "metadata": {
        "id": "yhAPsrf_9zit"
      },
      "outputs": [],
      "source": [
        "# pandas 임포트\n",
        "import pandas as pd\n",
        "\n",
        "# numpy 임포트\n",
        "import numpy as np\n",
        "\n",
        "# RandomForestRegressor를 임포트합니다.\n",
        "from sklearn.ensemble import RandomForestRegressor\n",
        "\n",
        "# train_test_split 임포트\n",
        "from sklearn.model_selection import train_test_split\n",
        "\n",
        "# cross_val_score 임포트\n",
        "from sklearn.model_selection import cross_val_score\n",
        "from sklearn.metrics import mean_squared_error as MSE\n",
        "\n",
        "import pickle\n",
        "\n",
        "# matplotlib 임포트\n",
        "import matplotlib.pyplot as plt\n",
        "\n",
        "# 경고 끄기\n",
        "import warnings\n",
        "\n",
        "warnings.filterwarnings(\"ignore\")"
      ]
    },
    {
      "cell_type": "markdown",
      "metadata": {
        "id": "cqBxY4A19zix"
      },
      "source": [
        "### 2. 자전거 대여 데이터 읽기"
      ]
    },
    {
      "cell_type": "code",
      "execution_count": 2,
      "metadata": {
        "id": "4iosr5H29ziy",
        "outputId": "c90eb626-858e-4338-9d16-f89813455c23"
      },
      "outputs": [
        {
          "data": {
            "text/html": [
              "<div>\n",
              "<style scoped>\n",
              "    .dataframe tbody tr th:only-of-type {\n",
              "        vertical-align: middle;\n",
              "    }\n",
              "\n",
              "    .dataframe tbody tr th {\n",
              "        vertical-align: top;\n",
              "    }\n",
              "\n",
              "    .dataframe thead th {\n",
              "        text-align: right;\n",
              "    }\n",
              "</style>\n",
              "<table border=\"1\" class=\"dataframe\">\n",
              "  <thead>\n",
              "    <tr style=\"text-align: right;\">\n",
              "      <th></th>\n",
              "      <th>instant</th>\n",
              "      <th>season</th>\n",
              "      <th>yr</th>\n",
              "      <th>mnth</th>\n",
              "      <th>holiday</th>\n",
              "      <th>weekday</th>\n",
              "      <th>workingday</th>\n",
              "      <th>weathersit</th>\n",
              "      <th>temp</th>\n",
              "      <th>atemp</th>\n",
              "      <th>hum</th>\n",
              "      <th>windspeed</th>\n",
              "      <th>cnt</th>\n",
              "    </tr>\n",
              "  </thead>\n",
              "  <tbody>\n",
              "    <tr>\n",
              "      <th>0</th>\n",
              "      <td>1</td>\n",
              "      <td>1.0</td>\n",
              "      <td>0.0</td>\n",
              "      <td>1.0</td>\n",
              "      <td>0.0</td>\n",
              "      <td>6.0</td>\n",
              "      <td>0.0</td>\n",
              "      <td>2</td>\n",
              "      <td>0.344167</td>\n",
              "      <td>0.363625</td>\n",
              "      <td>0.805833</td>\n",
              "      <td>0.160446</td>\n",
              "      <td>985</td>\n",
              "    </tr>\n",
              "    <tr>\n",
              "      <th>1</th>\n",
              "      <td>2</td>\n",
              "      <td>1.0</td>\n",
              "      <td>0.0</td>\n",
              "      <td>1.0</td>\n",
              "      <td>0.0</td>\n",
              "      <td>0.0</td>\n",
              "      <td>0.0</td>\n",
              "      <td>2</td>\n",
              "      <td>0.363478</td>\n",
              "      <td>0.353739</td>\n",
              "      <td>0.696087</td>\n",
              "      <td>0.248539</td>\n",
              "      <td>801</td>\n",
              "    </tr>\n",
              "    <tr>\n",
              "      <th>2</th>\n",
              "      <td>3</td>\n",
              "      <td>1.0</td>\n",
              "      <td>0.0</td>\n",
              "      <td>1.0</td>\n",
              "      <td>0.0</td>\n",
              "      <td>1.0</td>\n",
              "      <td>1.0</td>\n",
              "      <td>1</td>\n",
              "      <td>0.196364</td>\n",
              "      <td>0.189405</td>\n",
              "      <td>0.437273</td>\n",
              "      <td>0.248309</td>\n",
              "      <td>1349</td>\n",
              "    </tr>\n",
              "    <tr>\n",
              "      <th>3</th>\n",
              "      <td>4</td>\n",
              "      <td>1.0</td>\n",
              "      <td>0.0</td>\n",
              "      <td>1.0</td>\n",
              "      <td>0.0</td>\n",
              "      <td>2.0</td>\n",
              "      <td>1.0</td>\n",
              "      <td>1</td>\n",
              "      <td>0.200000</td>\n",
              "      <td>0.212122</td>\n",
              "      <td>0.590435</td>\n",
              "      <td>0.160296</td>\n",
              "      <td>1562</td>\n",
              "    </tr>\n",
              "    <tr>\n",
              "      <th>4</th>\n",
              "      <td>5</td>\n",
              "      <td>1.0</td>\n",
              "      <td>0.0</td>\n",
              "      <td>1.0</td>\n",
              "      <td>0.0</td>\n",
              "      <td>3.0</td>\n",
              "      <td>1.0</td>\n",
              "      <td>1</td>\n",
              "      <td>0.226957</td>\n",
              "      <td>0.229270</td>\n",
              "      <td>0.436957</td>\n",
              "      <td>0.186900</td>\n",
              "      <td>1600</td>\n",
              "    </tr>\n",
              "  </tbody>\n",
              "</table>\n",
              "</div>"
            ],
            "text/plain": [
              "   instant  season   yr  mnth  holiday  weekday  workingday  weathersit  \\\n",
              "0        1     1.0  0.0   1.0      0.0      6.0         0.0           2   \n",
              "1        2     1.0  0.0   1.0      0.0      0.0         0.0           2   \n",
              "2        3     1.0  0.0   1.0      0.0      1.0         1.0           1   \n",
              "3        4     1.0  0.0   1.0      0.0      2.0         1.0           1   \n",
              "4        5     1.0  0.0   1.0      0.0      3.0         1.0           1   \n",
              "\n",
              "       temp     atemp       hum  windspeed   cnt  \n",
              "0  0.344167  0.363625  0.805833   0.160446   985  \n",
              "1  0.363478  0.353739  0.696087   0.248539   801  \n",
              "2  0.196364  0.189405  0.437273   0.248309  1349  \n",
              "3  0.200000  0.212122  0.590435   0.160296  1562  \n",
              "4  0.226957  0.229270  0.436957   0.186900  1600  "
            ]
          },
          "execution_count": 2,
          "metadata": {},
          "output_type": "execute_result"
        }
      ],
      "source": [
        "# bike_rentals_cleaned.csv 파일을 로드합니다.\n",
        "df_bikes = pd.read_csv(\"bike_rentals_cleaned.csv\")\n",
        "\n",
        "# 처음 다섯 개 행을 출력합니다.\n",
        "df_bikes.head()"
      ]
    },
    {
      "cell_type": "code",
      "execution_count": 3,
      "metadata": {
        "id": "xBC6nKtB9zi1"
      },
      "outputs": [],
      "source": [
        "# 데이터를 X와 y로 나눕니다.\n",
        "X_bikes = df_bikes.iloc[:, :-1]\n",
        "y_bikes = df_bikes.iloc[:, -1]"
      ]
    },
    {
      "cell_type": "markdown",
      "metadata": {},
      "source": [
        "### 3. Random Forest를 활용한 성능평가"
      ]
    },
    {
      "cell_type": "code",
      "execution_count": 4,
      "metadata": {
        "id": "ZOcPUa2e9zi1",
        "outputId": "5fd50c5c-c45d-4f71-9863-a70b8acdbbe0"
      },
      "outputs": [
        {
          "name": "stdout",
          "output_type": "stream",
          "text": [
            "RMSE: [1108.25   661.194  934.381  904.553 1212.591]\n",
            "RMSE 평균: 964.194\n"
          ]
        }
      ],
      "source": [
        "# RandomForestRegressor 객체를 만듭니다.\n",
        "rf = RandomForestRegressor(n_estimators=50, random_state=2, n_jobs=-1)\n",
        "\n",
        "# 평균 제곱 오차를 사용해 교차 검증을 수행합니다.\n",
        "scores = cross_val_score(rf, X_bikes, y_bikes, scoring=\"neg_mean_squared_error\", cv=5)\n",
        "\n",
        "# 오차의 제곱근을 계산합니다.\n",
        "rmse = np.sqrt(-scores)\n",
        "\n",
        "# rmse를 출력합니다.\n",
        "print(\"RMSE:\", np.round(rmse, 3))\n",
        "\n",
        "# 평균 rmse를 출력합니다.\n",
        "print(\"RMSE 평균: %0.3f\" % (rmse.mean()))"
      ]
    },
    {
      "cell_type": "markdown",
      "metadata": {
        "id": "9Hgb7kzJ9zi6"
      },
      "source": [
        "### 4. 랜덤 포레스트 성능 향상\n",
        "\n",
        "#### 4.1 데이터셋 준비"
      ]
    },
    {
      "cell_type": "code",
      "execution_count": 5,
      "metadata": {
        "id": "NKPBHuob9zi6"
      },
      "outputs": [],
      "source": [
        "# 데이터를 훈련 세트와 테스트 세트로 나눕니다.\n",
        "X_train, X_test, y_train, y_test = train_test_split(X_bikes, y_bikes, random_state=2)"
      ]
    },
    {
      "cell_type": "markdown",
      "metadata": {
        "id": "X11hEqGT9zi7"
      },
      "source": [
        "### 4.2 n_estimators"
      ]
    },
    {
      "cell_type": "code",
      "execution_count": 6,
      "metadata": {
        "id": "0f-JKkZZ9zi8",
        "outputId": "25934a95-b0cb-4113-d05d-e68ace090e3d"
      },
      "outputs": [
        {
          "data": {
            "image/png": "[encoded data removed]",
            "text/plain": [
              "<Figure size 1500x700 with 1 Axes>"
            ]
          },
          "metadata": {},
          "output_type": "display_data"
        }
      ],
      "source": [
        "from sklearn.metrics import mean_squared_error\n",
        "\n",
        "# MSE 점수와 트리 개수를 담을 리스트\n",
        "rmse_scores = []\n",
        "estimators = []\n",
        "\n",
        "# warm_start=True로 RandomForestRegressor 객체를 만듭니다.\n",
        "rf = RandomForestRegressor(warm_start=True, n_jobs=-1, random_state=2)\n",
        "\n",
        "# 시작 트리 개수\n",
        "est = 10\n",
        "\n",
        "# 0~19까지 반복합니다.\n",
        "for i in range(21):\n",
        "\n",
        "    # n_estimators를 est로 설정합니다.\n",
        "    rf.set_params(n_estimators=est)\n",
        "\n",
        "    # 인구 조사 데이터셋으로 훈련합니다.\n",
        "    rf.fit(X_train, y_train)\n",
        "\n",
        "    # RMSE 값을 계산합니다.\n",
        "    rmse = mean_squared_error(y_test, rf.predict(X_test), squared=False)\n",
        "\n",
        "    # rmse와 est를 리스트에 추가합니다.\n",
        "    rmse_scores.append(rmse)\n",
        "    estimators.append(est)\n",
        "\n",
        "    # 트리를 25개씩 늘립니다.\n",
        "    est += 25\n",
        "\n",
        "# 그래프 크기를 설정합니다.\n",
        "plt.figure(figsize=(15, 7))\n",
        "\n",
        "# estimators와 rmse_scores를 그래프로 그립니다.\n",
        "plt.plot(estimators, rmse_scores)\n",
        "\n",
        "# 축 레이블을 설정합니다.\n",
        "plt.xlabel(\"Number of Trees\", fontsize=20)\n",
        "plt.ylabel(\"RMSE\", fontsize=20)\n",
        "plt.xticks(fontsize=15)\n",
        "plt.yticks(fontsize=15)\n",
        "\n",
        "# 제목을 출력합니다.\n",
        "plt.title(\"Random Forest Bike Rentals\", fontsize=20)\n",
        "\n",
        "# 그래프를 출력합니다.\n",
        "plt.show()"
      ]
    },
    {
      "cell_type": "markdown",
      "metadata": {
        "id": "ITwUnm-o9zjC"
      },
      "source": [
        "### 4.3 cross_val_score"
      ]
    },
    {
      "cell_type": "code",
      "execution_count": 7,
      "metadata": {
        "id": "9LsGPSyq9zjC",
        "outputId": "77d71a7f-7230-4cf4-ca33-88e50480fa32"
      },
      "outputs": [
        {
          "name": "stdout",
          "output_type": "stream",
          "text": [
            "RMSE: [ 836.482  541.898  533.086  812.782  894.877  881.117  794.103  828.968\n",
            "  772.517 2128.148]\n",
            "RMSE 평균: 902.398\n"
          ]
        }
      ],
      "source": [
        "# n_estimators=50, warm_start=True, oob_score=True로 랜덤 포레스트 모델을 만듭니다.\n",
        "rf = RandomForestRegressor(n_estimators=50, warm_start=True, n_jobs=-1, random_state=2)\n",
        "\n",
        "# 평균 제곱 오차를 사용해 교차 검증을 수행합니다.\n",
        "scores = cross_val_score(rf, X_bikes, y_bikes, scoring=\"neg_mean_squared_error\", cv=10)\n",
        "\n",
        "# 오차의 제곱근을 계산합니다.\n",
        "rmse = np.sqrt(-scores)\n",
        "\n",
        "# rmse를 출력합니다.\n",
        "print(\"RMSE:\", np.round(rmse, 3))\n",
        "\n",
        "# 평균 rmse를 출력합니다.\n",
        "print(\"RMSE 평균: %0.3f\" % (rmse.mean()))"
      ]
    },
    {
      "cell_type": "markdown",
      "metadata": {
        "id": "hmIPvouh9zjC"
      },
      "source": [
        "### 4.4 하이퍼파라미터 튜닝"
      ]
    },
    {
      "cell_type": "code",
      "execution_count": 8,
      "metadata": {
        "id": "0LQQ-hoM9zjC"
      },
      "outputs": [],
      "source": [
        "# RandomizedSearchCV 임포트\n",
        "from sklearn.model_selection import RandomizedSearchCV\n",
        "\n",
        "\n",
        "def randomized_search_reg(\n",
        "    params, runs=16, reg=RandomForestRegressor(random_state=2, n_jobs=-1)\n",
        "):\n",
        "\n",
        "    # RandomizedSearchCV 객체를 만듭니다.\n",
        "    rand_reg = RandomizedSearchCV(\n",
        "        reg,\n",
        "        params,\n",
        "        n_iter=runs,\n",
        "        scoring=\"neg_mean_squared_error\",\n",
        "        cv=10,\n",
        "        n_jobs=-1,\n",
        "        random_state=2,\n",
        "    )\n",
        "\n",
        "    # X_train와 y_train로 grid_reg를 훈련합니다.\n",
        "    rand_reg.fit(X_train, y_train)\n",
        "\n",
        "    # 최상의 모델을 추출합니다.\n",
        "    best_model = rand_reg.best_estimator_\n",
        "\n",
        "    # 최상의 매개변수를 추출합니다.\n",
        "    best_params = rand_reg.best_params_\n",
        "\n",
        "    # 최상의 매개변수를 출력합니다.\n",
        "    print(\"최상의 매개변수:\", best_params)\n",
        "\n",
        "    # 최상의 점수를 구합니다.\n",
        "    best_score = np.sqrt(-rand_reg.best_score_)\n",
        "\n",
        "    # 최상의 점수를 출력합니다.\n",
        "    print(\"훈련 점수: {:.3f}\".format(best_score))\n",
        "\n",
        "    # 테스트 세트의 레이블을 예측합니다.\n",
        "    y_pred = best_model.predict(X_test)\n",
        "\n",
        "    # mean_squared_error를 임포트합니다.\n",
        "    from sklearn.metrics import mean_squared_error as MSE\n",
        "\n",
        "    # rmse를 계산합니다.\n",
        "    rmse_test = MSE(y_test, y_pred) ** 0.5\n",
        "\n",
        "    # rmse를 출력합니다.\n",
        "    print(\"테스트 세트 점수: {:.3f}\".format(rmse_test))"
      ]
    },
    {
      "cell_type": "code",
      "execution_count": 9,
      "metadata": {
        "id": "xSJkoqK89zjD",
        "outputId": "d1463efc-e80a-4283-9e3e-01aff5d883c8"
      },
      "outputs": [
        {
          "name": "stdout",
          "output_type": "stream",
          "text": [
            "최상의 매개변수: {'min_weight_fraction_leaf': 0.0, 'min_samples_split': 0.03, 'min_samples_leaf': 6, 'min_impurity_decrease': 0.05, 'max_leaf_nodes': 25, 'max_features': 0.7, 'max_depth': None}\n",
            "훈련 점수: 759.076\n",
            "테스트 세트 점수: 701.802\n"
          ]
        }
      ],
      "source": [
        "randomized_search_reg(\n",
        "    params={\n",
        "        \"min_weight_fraction_leaf\": [0.0, 0.0025, 0.005, 0.0075, 0.01, 0.05],\n",
        "        \"min_samples_split\": [2, 0.01, 0.02, 0.03, 0.04, 0.06, 0.08, 0.1],\n",
        "        \"min_samples_leaf\": [1, 2, 4, 6, 8, 10, 20, 30],\n",
        "        \"min_impurity_decrease\": [0.0, 0.01, 0.05, 0.10, 0.15, 0.2],\n",
        "        \"max_leaf_nodes\": [10, 15, 20, 25, 30, 35, 40, 45, 50, None],\n",
        "        \"max_features\": [\"sqrt\", 0.8, 0.7, 0.6, 0.5, 0.4],\n",
        "        \"max_depth\": [None, 2, 4, 6, 8, 10, 20],\n",
        "    }\n",
        ")"
      ]
    },
    {
      "cell_type": "code",
      "execution_count": 10,
      "metadata": {
        "id": "ioNvN4nK9zjD",
        "outputId": "f763fec9-8ef6-46a1-c043-1dd316d569d0"
      },
      "outputs": [
        {
          "name": "stdout",
          "output_type": "stream",
          "text": [
            "최상의 매개변수: {'min_samples_leaf': 1, 'min_impurity_decrease': 0.1, 'max_features': 0.6, 'max_depth': 10}\n",
            "훈련 점수: 679.052\n",
            "테스트 세트 점수: 626.541\n"
          ]
        }
      ],
      "source": [
        "randomized_search_reg(\n",
        "    params={\n",
        "        \"min_samples_leaf\": [1, 2, 4, 6, 8, 10, 20, 30],\n",
        "        \"min_impurity_decrease\": [0.0, 0.01, 0.05, 0.10, 0.15, 0.2],\n",
        "        \"max_features\": [\"sqrt\", 0.8, 0.7, 0.6, 0.5, 0.4],\n",
        "        \"max_depth\": [None, 2, 4, 6, 8, 10, 20],\n",
        "    }\n",
        ")"
      ]
    },
    {
      "cell_type": "code",
      "execution_count": 11,
      "metadata": {
        "id": "6JmjI-7u9zjE",
        "outputId": "2373d97a-0461-4986-f43a-b4ba2fe7f7ea",
        "scrolled": true
      },
      "outputs": [
        {
          "name": "stdout",
          "output_type": "stream",
          "text": [
            "최상의 매개변수: {'min_samples_leaf': 1, 'min_impurity_decrease': 0.1, 'max_features': 0.6, 'max_depth': 12}\n",
            "훈련 점수: 675.128\n",
            "테스트 세트 점수: 619.014\n"
          ]
        }
      ],
      "source": [
        "randomized_search_reg(\n",
        "    params={\n",
        "        \"min_samples_leaf\": [1, 2, 4, 6, 8, 10, 20, 30],\n",
        "        \"min_impurity_decrease\": [0.0, 0.01, 0.05, 0.10, 0.15, 0.2],\n",
        "        \"max_features\": [\"sqrt\", 0.8, 0.7, 0.6, 0.5, 0.4],\n",
        "        \"max_depth\": [None, 4, 6, 8, 10, 12, 15, 20],\n",
        "    },\n",
        "    runs=20,\n",
        ")"
      ]
    },
    {
      "cell_type": "code",
      "execution_count": 12,
      "metadata": {
        "id": "NXW6-lUh9zjE",
        "outputId": "3797be1b-8749-4f76-c076-ba112f8ed69f"
      },
      "outputs": [
        {
          "name": "stdout",
          "output_type": "stream",
          "text": [
            "최상의 매개변수: {'min_samples_leaf': 1, 'min_impurity_decrease': 0.05, 'max_features': 0.7, 'max_depth': 18}\n",
            "훈련 점수: 679.595\n",
            "테스트 세트 점수: 630.954\n"
          ]
        }
      ],
      "source": [
        "randomized_search_reg(\n",
        "    params={\n",
        "        \"min_samples_leaf\": [1, 2, 3, 4, 5, 6],\n",
        "        \"min_impurity_decrease\": [0.0, 0.01, 0.05, 0.08, 0.10, 0.12, 0.15],\n",
        "        \"max_features\": [\"sqrt\", 0.8, 0.7, 0.6, 0.5, 0.4],\n",
        "        \"max_depth\": [None, 8, 10, 12, 14, 16, 18, 20],\n",
        "    }\n",
        ")"
      ]
    },
    {
      "cell_type": "code",
      "execution_count": 13,
      "metadata": {
        "id": "CMjwwT219zjE",
        "outputId": "2500873e-79ac-4d72-9202-2d4881aa82a2"
      },
      "outputs": [
        {
          "name": "stdout",
          "output_type": "stream",
          "text": [
            "최상의 매개변수: {'n_estimators': 100, 'min_samples_leaf': 1, 'min_impurity_decrease': 0.1, 'max_features': 0.6, 'max_depth': 12}\n",
            "훈련 점수: 675.128\n",
            "테스트 세트 점수: 619.014\n"
          ]
        }
      ],
      "source": [
        "randomized_search_reg(\n",
        "    params={\n",
        "        \"min_samples_leaf\": [1, 2, 4, 6, 8, 10, 20, 30],\n",
        "        \"min_impurity_decrease\": [0.0, 0.01, 0.05, 0.10, 0.15, 0.2],\n",
        "        \"max_features\": [\"sqrt\", 0.8, 0.7, 0.6, 0.5, 0.4],\n",
        "        \"max_depth\": [None, 4, 6, 8, 10, 12, 15, 20],\n",
        "        \"n_estimators\": [100],\n",
        "    },\n",
        "    runs=20,\n",
        ")"
      ]
    },
    {
      "cell_type": "code",
      "execution_count": 14,
      "metadata": {
        "id": "hykS42A09zjF",
        "outputId": "ca532663-c3c6-48ed-84d8-159f2d964355"
      },
      "outputs": [
        {
          "name": "stdout",
          "output_type": "stream",
          "text": [
            "RMSE: [ 818.354  514.173  547.392  814.059  769.54   730.025  831.376  794.634\n",
            "  756.83  1595.237]\n",
            "RMSE 평균: 817.162\n"
          ]
        }
      ],
      "source": [
        "# n_estimators=100, oob_score=True으로 랜덤 포레스트 모델을 만듭니다.\n",
        "rf = RandomForestRegressor(\n",
        "    n_estimators=100,\n",
        "    min_impurity_decrease=0.1,\n",
        "    max_features=0.6,\n",
        "    max_depth=12,\n",
        "    n_jobs=-1,\n",
        "    random_state=2,\n",
        ")\n",
        "\n",
        "# 평균 제곱 오차를 사용해 교차 검증을 수행합니다.\n",
        "scores = cross_val_score(rf, X_bikes, y_bikes, scoring=\"neg_mean_squared_error\", cv=10)\n",
        "\n",
        "# 오차의 제곱근을 계산합니다.\n",
        "rmse = np.sqrt(-scores)\n",
        "\n",
        "# rmse를 출력합니다.\n",
        "print(\"RMSE:\", np.round(rmse, 3))\n",
        "\n",
        "# 평균 rmse를 출력합니다.\n",
        "print(\"RMSE 평균: %0.3f\" % (rmse.mean()))"
      ]
    },
    {
      "cell_type": "markdown",
      "metadata": {},
      "source": [
        "### 5. Best 모델 저장\n"
      ]
    },
    {
      "cell_type": "code",
      "execution_count": 15,
      "metadata": {},
      "outputs": [
        {
          "name": "stdout",
          "output_type": "stream",
          "text": [
            "테스트 세트 점수: 619.014\n"
          ]
        }
      ],
      "source": [
        "rf = RandomForestRegressor(\n",
        "    n_estimators=100,\n",
        "    min_samples_leaf=1,\n",
        "    min_impurity_decrease=0.1,\n",
        "    max_features=0.6,\n",
        "    max_depth=12,\n",
        "    n_jobs=-1,\n",
        "    random_state=2,\n",
        ")\n",
        "rf.fit(X_train, y_train)\n",
        "y_pred = rf.predict(X_test)\n",
        "\n",
        "# rmse를 계산합니다.\n",
        "rmse_test = MSE(y_test, y_pred) ** 0.5\n",
        "\n",
        "# rmse를 출력합니다.\n",
        "print(\"테스트 세트 점수: {:.3f}\".format(rmse_test))"
      ]
    },
    {
      "cell_type": "code",
      "execution_count": null,
      "metadata": {},
      "outputs": [],
      "source": [
        "with open(\"rf_ex1.pickle\", \"wb\") as f:\n",
        "    pickle.dump(rf, f)"
      ]
    },
    {
      "cell_type": "markdown",
      "metadata": {},
      "source": [
        "### 6. 저장된 모델 불러와서 사용하기\n"
      ]
    },
    {
      "cell_type": "code",
      "execution_count": null,
      "metadata": {},
      "outputs": [],
      "source": [
        "import pickle\n",
        "\n",
        "with open(\"rf_ex1.pickle\", \"rb\") as f:\n",
        "    rf_model = pickle.load(f)"
      ]
    },
    {
      "cell_type": "code",
      "execution_count": 18,
      "metadata": {},
      "outputs": [
        {
          "name": "stdout",
          "output_type": "stream",
          "text": [
            "테스트 세트 점수: 619.014\n"
          ]
        }
      ],
      "source": [
        "# 테스트 세트의 레이블을 예측합니다.\n",
        "y_pred = rf_model.predict(X_test)\n",
        "\n",
        "# rmse를 계산합니다.\n",
        "rmse_test = MSE(y_test, y_pred) ** 0.5\n",
        "\n",
        "# rmse를 출력합니다.\n",
        "print(\"테스트 세트 점수: {:.3f}\".format(rmse_test))"
      ]
    }
  ],
  "metadata": {
    "colab": {
      "provenance": []
    },
    "kernelspec": {
      "display_name": "base",
      "language": "python",
      "name": "python3"
    },
    "language_info": {
      "codemirror_mode": {
        "name": "ipython",
        "version": 3
      },
      "file_extension": ".py",
      "mimetype": "text/x-python",
      "name": "python",
      "nbconvert_exporter": "python",
      "pygments_lexer": "ipython3",
      "version": "3.11.3"
    }
  },
  "nbformat": 4,
  "nbformat_minor": 0
}
